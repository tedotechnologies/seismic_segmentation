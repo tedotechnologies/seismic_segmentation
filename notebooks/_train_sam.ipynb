{
 "cells": [
  {
   "cell_type": "code",
   "execution_count": null,
   "metadata": {},
   "outputs": [],
   "source": [
    "%env CLEARML_WEB_HOST=https://app.clear.ml/\n",
    "%env CLEARML_API_HOST=https://api.clear.ml\n",
    "%env CLEARML_FILES_HOST=https://files.clear.ml\n",
    "%env CLEARML_API_ACCESS_KEY=VH2OIPC5NKDGRNFJ9LW5W2KSU3YP4T\n",
    "%env CLEARML_API_SECRET_KEY=Ixtz1NVs8wKDzNfyakkHIHHWN_Oy4vuzwbza8gu2za5SZpcl62e3s6v3s7uN9SzKbII"
   ]
  },
  {
   "cell_type": "code",
   "execution_count": null,
   "metadata": {},
   "outputs": [],
   "source": [
    "from clearml import Task\n",
    "\n",
    "task = Task.init(project_name=\"Rosneft segmentation\", task_name=\"Experiment 3\")"
   ]
  },
  {
   "cell_type": "code",
   "execution_count": 6,
   "metadata": {},
   "outputs": [],
   "source": [
    "# api {\n",
    "#   # Daniel Matveev's workspace\n",
    "#   web_server: https://app.clear.ml/\n",
    "#   api_server: https://api.clear.ml\n",
    "#   files_server: https://files.clear.ml\n",
    "#   credentials {\n",
    "#     \"access_key\" = \"VH2OIPC5NKDGRNFJ9LW5W2KSU3YP4T\"\n",
    "#     \"secret_key\" = \"Ixtz1NVs8wKDzNfyakkHIHHWN_Oy4vuzwbza8gu2za5SZpcl62e3s6v3s7uN9SzKbII\"\n",
    "#   }\n",
    "# }"
   ]
  },
  {
   "cell_type": "code",
   "execution_count": 3,
   "metadata": {},
   "outputs": [],
   "source": [
    "import torch\n",
    "import gc\n",
    "import os"
   ]
  },
  {
   "cell_type": "code",
   "execution_count": 2,
   "metadata": {},
   "outputs": [],
   "source": [
    "\n",
    "os.environ['PYTORCH_CUDA_ALLOC_CONF'] = 'expandable_segments:True'\n",
    "\n",
    "\n",
    "def clear_gpu_memory():\n",
    "    gc.collect()\n",
    "    torch.cuda.empty_cache()\n",
    "\n",
    "clear_gpu_memory()\n"
   ]
  },
  {
   "cell_type": "code",
   "execution_count": 4,
   "metadata": {},
   "outputs": [
    {
     "name": "stderr",
     "output_type": "stream",
     "text": [
      "/home/dmatveev/workdir/rosneft_segmentation/for_rosneft/lib/python3.11/site-packages/tqdm/auto.py:21: TqdmWarning: IProgress not found. Please update jupyter and ipywidgets. See https://ipywidgets.readthedocs.io/en/stable/user_install.html\n",
      "  from .autonotebook import tqdm as notebook_tqdm\n"
     ]
    }
   ],
   "source": [
    "import os\n",
    "import sys\n",
    "\n",
    "import cv2\n",
    "import random\n",
    "import numpy as np\n",
    "from PIL import Image\n",
    "import torch\n",
    "import torch.nn.functional as F\n",
    "from torch.utils.data import DataLoader, random_split\n",
    "import matplotlib.pyplot as plt\n",
    "from tqdm import tqdm\n",
    "\n",
    "from transformers import SamModel, SamProcessor\n",
    "from peft import get_peft_model, LoraConfig, TaskType\n",
    "\n",
    "\n",
    "sys.path.append(os.path.abspath('/home/dmatveev/workdir/rosneft_segmentation/experiments'))\n",
    "\n",
    "from prepare_data import SegmentationDataset, SeismicDataset"
   ]
  },
  {
   "cell_type": "code",
   "execution_count": 5,
   "metadata": {},
   "outputs": [],
   "source": [
    "train_config = {\n",
    "    \"model\": {\n",
    "        \"pretrained\": \"facebook/sam-vit-huge\", \n",
    "        \"use_lora\": True,\n",
    "        \"lora_config\": { \n",
    "            \"r\": 64,\n",
    "            \"lora_alpha\": 64,\n",
    "            \"target_modules\": [\"q_proj\", \"k_proj\", \"v_proj\", \"out_proj\"],\n",
    "            \"lora_dropout\": 0.1,\n",
    "            \"bias\": \"none\",\n",
    "            \"task_type\": \"FEATURE_EXTRACTION\"\n",
    "        },\n",
    "        \"freeze_base\": True\n",
    "    },\n",
    "    \"training\": {\n",
    "        \"epochs\": 2,\n",
    "        \"batch_size\": 4,\n",
    "        \"lr\": 1e-4,\n",
    "        \"num_workers\": 2,\n",
    "        \"log_interval\": 10,\n",
    "        \"use_mask\": True \n",
    "    },\n",
    "    \"data\": {\n",
    "        \"type\": \"2D\",\n",
    "        \"seismic_dir\": \"/home/dmatveev/workdir/rosneft_segmentation/data/Salt2d/seismic\",\n",
    "        \"label_dir\": \"/home/dmatveev/workdir/rosneft_segmentation/data/Salt2d/label\",\n",
    "        \"shape\": (224, 224),\n",
    "        \"mask_dtype\": np.uint8\n",
    "    },\n",
    "    \"clearml\": {\n",
    "        \"project_name\": \"SAM Fine Tuning\",\n",
    "        \"task_name\": \"LoRA Training\"\n",
    "    }\n",
    "}\n",
    "\n",
    "# task.connect(train_config)"
   ]
  },
  {
   "cell_type": "code",
   "execution_count": 6,
   "metadata": {},
   "outputs": [],
   "source": [
    "data_cfg = train_config[\"data\"]\n",
    "\n",
    "dataset = SegmentationDataset({\n",
    "    \"type\": data_cfg.get(\"type\", \"2D\"),\n",
    "    \"seismic_dir\": data_cfg[\"seismic_dir\"],\n",
    "    \"label_dir\": data_cfg[\"label_dir\"],\n",
    "    \"shape\": data_cfg[\"shape\"],\n",
    "    \"mask_dtype\": data_cfg.get(\"mask_dtype\", 0),\n",
    "    \"use_pil\": True\n",
    "})"
   ]
  },
  {
   "cell_type": "code",
   "execution_count": 7,
   "metadata": {},
   "outputs": [],
   "source": [
    "def custom_collate(batch):\n",
    "    return {\n",
    "        \"filename\": [item[0] for item in batch],\n",
    "        \"seismic_img\": [item[1] for item in batch],\n",
    "        \"label\": [item[2] for item in batch]\n",
    "    }"
   ]
  },
  {
   "cell_type": "code",
   "execution_count": 8,
   "metadata": {},
   "outputs": [],
   "source": [
    "train_size = int(0.8 * len(dataset))\n",
    "val_size = len(dataset) - train_size\n",
    "\n",
    "train_dataset, val_dataset = random_split(dataset, [train_size, val_size])\n",
    "\n",
    "train_loader = DataLoader(train_dataset, batch_size=4, shuffle=True, num_workers=2, collate_fn=custom_collate)\n",
    "val_loader = DataLoader(val_dataset, batch_size=4, shuffle=False, num_workers=2, collate_fn=custom_collate)"
   ]
  },
  {
   "cell_type": "code",
   "execution_count": 9,
   "metadata": {},
   "outputs": [],
   "source": [
    "# zero_count = 0\n",
    "\n",
    "# for filename, pil_image, label in tqdm(train_dataset):\n",
    "#     if np.all(label == 0):\n",
    "#         zero_count += 1\n",
    "\n",
    "# print(\"Количество изображений, маска которых состоит полностью из 0:\", zero_count)"
   ]
  },
  {
   "cell_type": "code",
   "execution_count": 9,
   "metadata": {},
   "outputs": [],
   "source": [
    "device = \"cuda\" if torch.cuda.is_available() else \"cpu\"\n",
    "\n",
    "model = SamModel.from_pretrained(train_config[\"model\"][\"pretrained\"]).to(device)\n",
    "processor = SamProcessor.from_pretrained(train_config[\"model\"][\"pretrained\"])"
   ]
  },
  {
   "cell_type": "code",
   "execution_count": 11,
   "metadata": {},
   "outputs": [],
   "source": [
    "if train_config[\"model\"][\"freeze_base\"]:\n",
    "    for param in model.parameters():\n",
    "        param.requires_grad = False"
   ]
  },
  {
   "cell_type": "code",
   "execution_count": 12,
   "metadata": {},
   "outputs": [
    {
     "name": "stdout",
     "output_type": "stream",
     "text": [
      "Trainable parameters: 753664\n"
     ]
    }
   ],
   "source": [
    "if train_config[\"model\"][\"use_lora\"]:\n",
    "    lora_cfg = train_config[\"model\"][\"lora_config\"]\n",
    "    lora_config = LoraConfig(\n",
    "        r=lora_cfg[\"r\"],\n",
    "        lora_alpha=lora_cfg[\"lora_alpha\"],\n",
    "        target_modules=lora_cfg[\"target_modules\"],\n",
    "        lora_dropout=lora_cfg[\"lora_dropout\"],\n",
    "        bias=lora_cfg[\"bias\"],\n",
    "        task_type=TaskType.FEATURE_EXTRACTION\n",
    "    )\n",
    "    model = get_peft_model(model, lora_config)\n",
    "\n",
    "print(\"Trainable parameters:\", sum(p.numel() for p in model.parameters() if p.requires_grad))"
   ]
  },
  {
   "cell_type": "code",
   "execution_count": 13,
   "metadata": {},
   "outputs": [],
   "source": [
    "optimizer = torch.optim.AdamW(model.parameters(), lr=train_config[\"training\"][\"lr\"])\n",
    "num_epochs = 1\n",
    "# num_epochs = train_config[\"training\"][\"epochs\"]\n",
    "log_interval = train_config[\"training\"][\"log_interval\"]"
   ]
  },
  {
   "cell_type": "code",
   "execution_count": 14,
   "metadata": {},
   "outputs": [],
   "source": [
    "for batch_idx, batch in enumerate(train_loader):\n",
    "    break"
   ]
  },
  {
   "cell_type": "code",
   "execution_count": 17,
   "metadata": {},
   "outputs": [
    {
     "data": {
      "text/plain": [
       "array([[1., 1., 1., ..., 0., 0., 0.],\n",
       "       [1., 1., 1., ..., 0., 0., 0.],\n",
       "       [1., 1., 1., ..., 0., 0., 0.],\n",
       "       ...,\n",
       "       [1., 1., 1., ..., 0., 0., 0.],\n",
       "       [1., 1., 1., ..., 0., 0., 0.],\n",
       "       [1., 1., 1., ..., 0., 0., 0.]], shape=(224, 224), dtype=float32)"
      ]
     },
     "execution_count": 17,
     "metadata": {},
     "output_type": "execute_result"
    }
   ],
   "source": [
    "batch[\"label\"][0]"
   ]
  },
  {
   "cell_type": "code",
   "execution_count": 16,
   "metadata": {},
   "outputs": [],
   "source": [
    "labels = torch.stack([torch.tensor(lbl) for lbl in batch[\"label\"]]).to(device)\n",
    "\n",
    "batch_input_points = []\n",
    "for label in labels.cpu().numpy():\n",
    "    h, w = label.shape\n",
    "    nonzero_indices = np.argwhere(label == 1)\n",
    "    if len(nonzero_indices) > 0:\n",
    "        idx = random.randint(0, len(nonzero_indices) - 1)\n",
    "        y, x = nonzero_indices[idx]\n",
    "        prompt_point = [[x, y]]\n",
    "    else:\n",
    "        prompt_point = [[w / 2.0, h / 2.0]]\n",
    "    batch_input_points.append(prompt_point)"
   ]
  },
  {
   "cell_type": "code",
   "execution_count": 18,
   "metadata": {},
   "outputs": [
    {
     "name": "stderr",
     "output_type": "stream",
     "text": [
      "/home/dmatveev/workdir/rosneft_segmentation/for_rosneft/lib/python3.11/site-packages/transformers/image_processing_utils.py:42: UserWarning: The following named arguments are not valid for `SamImageProcessor.preprocess` and were ignored: 'point_pad_value'\n",
      "  return self.preprocess(images, **kwargs)\n"
     ]
    }
   ],
   "source": [
    "inputs = processor(batch[\"seismic_img\"], input_points=batch_input_points, return_tensors=\"pt\")\n",
    "inputs = {k: v.to(device) for k, v in inputs.items()}"
   ]
  },
  {
   "cell_type": "code",
   "execution_count": 56,
   "metadata": {},
   "outputs": [
    {
     "data": {
      "text/plain": [
       "torch.Size([4, 3, 1024, 1024])"
      ]
     },
     "execution_count": 56,
     "metadata": {},
     "output_type": "execute_result"
    }
   ],
   "source": [
    "inputs[\"pixel_values\"].shape"
   ]
  },
  {
   "cell_type": "code",
   "execution_count": 19,
   "metadata": {},
   "outputs": [],
   "source": [
    "outputs = model(**inputs)"
   ]
  },
  {
   "cell_type": "code",
   "execution_count": 22,
   "metadata": {},
   "outputs": [
    {
     "data": {
      "text/plain": [
       "torch.Size([4, 1, 3, 256, 256])"
      ]
     },
     "execution_count": 22,
     "metadata": {},
     "output_type": "execute_result"
    }
   ],
   "source": [
    "outputs.pred_masks.shape"
   ]
  },
  {
   "cell_type": "code",
   "execution_count": 23,
   "metadata": {},
   "outputs": [],
   "source": [
    "pred_logits = outputs.pred_masks[:, 0, 1, :, :]  # Результат имеет форму [B, 256, 256]\n"
   ]
  },
  {
   "cell_type": "code",
   "execution_count": 27,
   "metadata": {},
   "outputs": [
    {
     "data": {
      "text/plain": [
       "tensor([[ 2.9518,  4.2566,  4.0046,  ..., -3.2916, -3.5183, -3.2439],\n",
       "        [ 3.4410,  5.3483,  5.1840,  ..., -2.5229, -2.1467, -1.9390],\n",
       "        [ 4.2161,  7.2760,  7.3449,  ..., -3.3947, -3.6412, -3.6740],\n",
       "        ...,\n",
       "        [ 4.1497,  5.5169,  5.2447,  ..., -2.2892, -2.1196, -2.5065],\n",
       "        [ 3.5271,  5.7272,  5.2027,  ..., -2.1220, -2.1811, -2.6361],\n",
       "        [ 3.2823,  4.1460,  4.2626,  ..., -2.4162, -2.3210, -2.3513]],\n",
       "       device='cuda:0', grad_fn=<SelectBackward0>)"
      ]
     },
     "execution_count": 27,
     "metadata": {},
     "output_type": "execute_result"
    }
   ],
   "source": [
    "pred_logits[0]"
   ]
  },
  {
   "cell_type": "code",
   "execution_count": 28,
   "metadata": {},
   "outputs": [],
   "source": [
    "pred_probs = torch.sigmoid(pred_logits[0])\n",
    "# Применяем порог, чтобы получить бинарную маску\n",
    "pred_mask = (pred_probs > 0.5).float()"
   ]
  },
  {
   "cell_type": "code",
   "execution_count": 32,
   "metadata": {},
   "outputs": [
    {
     "name": "stdout",
     "output_type": "stream",
     "text": [
      "Ручная маска: [[1. 1. 1. ... 0. 0. 0.]\n",
      " [1. 1. 1. ... 0. 0. 0.]\n",
      " [1. 1. 1. ... 0. 0. 0.]\n",
      " ...\n",
      " [1. 1. 1. ... 0. 0. 0.]\n",
      " [1. 1. 1. ... 0. 0. 0.]\n",
      " [1. 1. 1. ... 0. 0. 0.]]\n",
      "Postprocessed маска: [[ True  True  True ... False False False]\n",
      " [ True  True  True ... False False False]\n",
      " [ True  True  True ... False False False]\n",
      " ...\n",
      " [ True  True  True ... False False False]\n",
      " [ True  True  True ... False False False]\n",
      " [ True  True  True ... False False False]]\n"
     ]
    }
   ],
   "source": [
    "# Получаем post-processed маску (предположим, что она уже имеет нужный размер)\n",
    "processed_masks = processor.image_processor.post_process_masks(\n",
    "    outputs.pred_masks.cpu(),\n",
    "    inputs[\"original_sizes\"].cpu(),\n",
    "    inputs[\"reshaped_input_sizes\"].cpu()\n",
    ")\n",
    "\n",
    "# Из postprocessed результата извлекаем нужный канал, например:\n",
    "processed_mask = processed_masks[0][0][1, :, :]\n",
    "\n",
    "# Сравнение с нашим ручным вариантом\n",
    "manual_mask = pred_mask.cpu().numpy()\n",
    "\n",
    "print(\"Ручная маска:\", manual_mask)\n",
    "print(\"Postprocessed маска:\", processed_mask.numpy())\n"
   ]
  },
  {
   "cell_type": "code",
   "execution_count": 31,
   "metadata": {},
   "outputs": [
    {
     "data": {
      "text/plain": [
       "torch.Size([256, 256])"
      ]
     },
     "execution_count": 31,
     "metadata": {},
     "output_type": "execute_result"
    }
   ],
   "source": [
    "pred_mask.shape"
   ]
  },
  {
   "cell_type": "code",
   "execution_count": 59,
   "metadata": {},
   "outputs": [],
   "source": [
    "masks = processor.image_processor.post_process_masks(\n",
    "                outputs.pred_masks.cpu(),\n",
    "                inputs[\"original_sizes\"].cpu(),\n",
    "                inputs[\"reshaped_input_sizes\"].cpu()\n",
    "            )"
   ]
  },
  {
   "cell_type": "code",
   "execution_count": 62,
   "metadata": {},
   "outputs": [],
   "source": [
    "for mask in masks:\n",
    "    pred_logit = mask[0][1, :, :]  # [H, W]\n",
    "    break"
   ]
  },
  {
   "cell_type": "code",
   "execution_count": 64,
   "metadata": {},
   "outputs": [
    {
     "data": {
      "text/plain": [
       "torch.Size([224, 224])"
      ]
     },
     "execution_count": 64,
     "metadata": {},
     "output_type": "execute_result"
    },
    {
     "ename": "",
     "evalue": "",
     "output_type": "error",
     "traceback": [
      "\u001b[1;31mThe Kernel crashed while executing code in the current cell or a previous cell. \n",
      "\u001b[1;31mPlease review the code in the cell(s) to identify a possible cause of the failure. \n",
      "\u001b[1;31mClick <a href='https://aka.ms/vscodeJupyterKernelCrash'>here</a> for more info. \n",
      "\u001b[1;31mView Jupyter <a href='command:jupyter.viewOutput'>log</a> for further details."
     ]
    }
   ],
   "source": [
    "pred_logit.shape"
   ]
  },
  {
   "cell_type": "code",
   "execution_count": 61,
   "metadata": {},
   "outputs": [
    {
     "data": {
      "text/plain": [
       "4"
      ]
     },
     "execution_count": 61,
     "metadata": {},
     "output_type": "execute_result"
    }
   ],
   "source": [
    "len(masks)"
   ]
  },
  {
   "cell_type": "code",
   "execution_count": 17,
   "metadata": {},
   "outputs": [
    {
     "data": {
      "image/png": "[encoded data removed]",
      "text/plain": [
       "<Figure size 640x480 with 1 Axes>"
      ]
     },
     "metadata": {},
     "output_type": "display_data"
    }
   ],
   "source": [
    "plt.imshow(batch[\"label\"][1], cmap='gray')\n",
    "plt.show()"
   ]
  },
  {
   "cell_type": "code",
   "execution_count": 18,
   "metadata": {},
   "outputs": [
    {
     "data": {
      "image/jpeg": "[encoded data removed]",
      "image/png": "[encoded data removed]",
      "text/plain": [
       "<PIL.Image.Image image mode=RGB size=224x224>"
      ]
     },
     "execution_count": 18,
     "metadata": {},
     "output_type": "execute_result"
    }
   ],
   "source": [
    "batch[\"seismic_img\"][1]"
   ]
  },
  {
   "cell_type": "code",
   "execution_count": 40,
   "metadata": {},
   "outputs": [],
   "source": [
    "input_points = [[[100, 100]]]\n",
    "inputs = processor(batch[\"seismic_img\"][1], input_points=input_points, return_tensors=\"pt\").to(\"cuda\")\n",
    "outputs = model(**inputs)\n",
    "\n",
    "# processor.image_processor.post_process_masks(outputs.pred_masks.cpu(), inputs[\"original_sizes\"].cpu(), inputs[\"reshaped_input_sizes\"].cpu())"
   ]
  },
  {
   "cell_type": "code",
   "execution_count": 41,
   "metadata": {},
   "outputs": [],
   "source": [
    "mask = processor.image_processor.post_process_masks(outputs.pred_masks.cpu(), inputs[\"original_sizes\"].cpu(), inputs[\"reshaped_input_sizes\"].cpu())"
   ]
  },
  {
   "cell_type": "code",
   "execution_count": 42,
   "metadata": {},
   "outputs": [
    {
     "data": {
      "text/plain": [
       "tensor([[False, False, False,  ..., False, False, False],\n",
       "        [False, False, False,  ..., False, False, False],\n",
       "        [False, False, False,  ..., False, False, False],\n",
       "        ...,\n",
       "        [False, False, False,  ..., False, False, False],\n",
       "        [False, False, False,  ..., False, False, False],\n",
       "        [False, False, False,  ..., False, False, False]])"
      ]
     },
     "execution_count": 42,
     "metadata": {},
     "output_type": "execute_result"
    }
   ],
   "source": [
    "mask[0][0][0,:,:]"
   ]
  },
  {
   "cell_type": "code",
   "execution_count": 46,
   "metadata": {},
   "outputs": [
    {
     "data": {
      "image/png": "[encoded data removed]",
      "text/plain": [
       "<Figure size 640x480 with 1 Axes>"
      ]
     },
     "metadata": {},
     "output_type": "display_data"
    }
   ],
   "source": [
    "\n",
    "plt.imshow(mask[0][0][1,:,:], cmap='gray')\n",
    "plt.show()"
   ]
  },
  {
   "cell_type": "code",
   "execution_count": 15,
   "metadata": {},
   "outputs": [
    {
     "data": {
      "image/jpeg": "[encoded data removed]",
      "image/png": "[encoded data removed]",
      "text/plain": [
       "<PIL.Image.Image image mode=RGB size=224x224>"
      ]
     },
     "execution_count": 15,
     "metadata": {},
     "output_type": "execute_result"
    }
   ],
   "source": [
    "batch[\"seismic_img\"][0]"
   ]
  },
  {
   "cell_type": "code",
   "execution_count": null,
   "metadata": {},
   "outputs": [],
   "source": [
    "epoch_losses = []\n",
    "\n",
    "model.train()\n",
    "for epoch in range(num_epochs):\n",
    "    epoch_loss = 0.0\n",
    "    pbar = tqdm(train_loader, desc=f\"Epoch {epoch+1}\", ncols=100)\n",
    "    \n",
    "    for batch_idx, batch in enumerate(pbar):\n",
    "        optimizer.zero_grad()\n",
    "\n",
    "        inputs = processor(batch[\"seismic_img\"], return_tensors=\"pt\")\n",
    "        seismic_imgs = inputs[\"pixel_values\"].to(device)\n",
    "        \n",
    "        # Convert labels to tensors\n",
    "        labels = torch.tensor(batch[\"label\"]).to(device)\n",
    "\n",
    "        image_embeddings = model.get_image_embeddings(seismic_imgs)\n",
    "\n",
    "        batch_prompts = []\n",
    "        for label in labels.cpu().numpy():\n",
    "            h, w = label.shape\n",
    "            nonzero_indices = np.argwhere(label != 0)\n",
    "            if len(nonzero_indices) > 0:\n",
    "                idx = random.randint(0, len(nonzero_indices) - 1)\n",
    "                y, x = nonzero_indices[idx]\n",
    "                prompt_point = [[x, y]]\n",
    "            else:\n",
    "                prompt_point = [[w / 2.0, h / 2.0]]\n",
    "            batch_prompts.append(prompt_point)\n",
    "\n",
    "        prompt_inputs = processor(batch[\"seismic_img\"], input_points=batch_prompts, return_tensors=\"pt\")\n",
    "        prompt_inputs = {k: v.to(device) for k, v in prompt_inputs.items()}\n",
    "        prompt_inputs.pop(\"pixel_values\", None) \n",
    "        prompt_inputs.update({\"image_embeddings\": image_embeddings})\n",
    "\n",
    "        outputs = model(**prompt_inputs)\n",
    "        pred_masks = outputs.pred_masks\n",
    "\n",
    "        if pred_masks.ndim == 5:\n",
    "            pred_logits, _ = pred_masks.max(dim=2)  # [B, 1, H, W]\n",
    "            pred_logits = pred_logits.squeeze(1)\n",
    "        elif pred_masks.ndim == 4:\n",
    "            pred_logits, _ = pred_masks.max(dim=1)  # [B, H, W]\n",
    "        elif pred_masks.ndim == 3:\n",
    "            pred_logits, _ = pred_masks.max(dim=0)  # [H, W]\n",
    "            pred_logits = pred_logits.unsqueeze(0)  # [1, H, W]\n",
    "        else:\n",
    "            raise ValueError(f\"Unexpected pred_masks shape: {pred_masks.shape}\")\n",
    "\n",
    "        # Ensure prediction size matches the ground truth.\n",
    "        if pred_logits.shape[-2:] != labels.shape[-2:]:\n",
    "            pred_logits = F.interpolate(pred_logits.unsqueeze(1),\n",
    "                                        size=labels.shape[-2:],\n",
    "                                        mode=\"bilinear\",\n",
    "                                        align_corners=False).squeeze(1)\n",
    "\n",
    "        loss = F.binary_cross_entropy_with_logits(pred_logits, labels.float())\n",
    "        loss.backward()\n",
    "        optimizer.step()\n",
    "\n",
    "        epoch_loss += loss.item()\n",
    "        current_iter = epoch * len(train_loader) + batch_idx\n",
    "        if batch_idx % log_interval == 0:\n",
    "            loss_value = loss.item()\n",
    "            print(f\"Epoch [{epoch+1}/{num_epochs}] Batch [{batch_idx}/{len(train_loader)}] Loss: {loss_value:.4f}\")\n",
    "            task.get_logger().report_scalar(title=\"Loss\", series=\"train_batch\", value=loss_value, iteration=current_iter)\n",
    "    \n",
    "    avg_loss = epoch_loss / len(train_loader)\n",
    "    epoch_losses.append(avg_loss)\n",
    "    print(f\"Epoch [{epoch+1}/{num_epochs}] Average Loss: {avg_loss:.4f}\")\n",
    "    task.get_logger().report_scalar(title=\"Loss\", series=\"train_epoch\", value=avg_loss, iteration=epoch+1)\n",
    "    \n",
    "    # Generate and report a plot of loss evolution for this epoch\n",
    "    plt.figure()\n",
    "    plt.plot(range(1, len(epoch_losses) + 1), epoch_losses, marker='o')\n",
    "    plt.title(\"Training Loss per Epoch\")\n",
    "    plt.xlabel(\"Epoch\")\n",
    "    plt.ylabel(\"Average Loss\")\n",
    "    plt.grid(True)\n",
    "    # Save plot locally\n",
    "    loss_plot_path = f\"loss_plot_epoch_{epoch+1}.png\"\n",
    "    plt.savefig(loss_plot_path)\n",
    "    plt.close()\n",
    "    task.get_logger().report_image(title=\"Loss Plot\", series=\"train\", local_path=loss_plot_path, iteration=epoch+1)\n",
    "    \n",
    "    # Save checkpoint artifact\n",
    "    checkpoint_path = f\"checkpoint_epoch_{epoch+1}.pt\"\n",
    "    torch.save({\n",
    "        \"epoch\": epoch + 1,\n",
    "        \"model_state_dict\": model.state_dict(),\n",
    "        \"optimizer_state_dict\": optimizer.state_dict(),\n",
    "        \"loss\": avg_loss,\n",
    "    }, checkpoint_path)\n",
    "    task.upload_artifact(name=f\"checkpoint_epoch_{epoch+1}\", artifact_object=checkpoint_path)"
   ]
  },
  {
   "cell_type": "markdown",
   "metadata": {},
   "source": [
    "# test"
   ]
  },
  {
   "cell_type": "code",
   "execution_count": 8,
   "metadata": {},
   "outputs": [],
   "source": [
    "def load_dat_file(filepath, shape=(224, 224)):\n",
    "    data = np.fromfile(filepath, dtype=np.float32)\n",
    "    return data.reshape(shape)\n",
    "\n",
    "def to_pil_image(np_img):\n",
    "    if np_img.dtype != np.uint8:\n",
    "        if np_img.max() != np_img.min():\n",
    "            np_img = (255 * (np_img - np_img.min()) / (np_img.max() - np_img.min())).astype(np.uint8)\n",
    "        else:\n",
    "            np_img = np_img.astype(np.uint8)\n",
    "    return Image.fromarray(np_img)\n",
    "\n",
    "def compute_metrics(pred, target, threshold=0.5):\n",
    "    pred_bin = (pred > threshold).astype(np.uint8)\n",
    "    target_bin = (target > threshold).astype(np.uint8)\n",
    "    \n",
    "    if pred_bin.sum() == 0 and target_bin.sum() == 0:\n",
    "        return 1.0, 1.0\n",
    "\n",
    "    intersection = np.logical_and(pred_bin, target_bin).sum()\n",
    "    union = np.logical_or(pred_bin, target_bin).sum()\n",
    "    iou = intersection / union if union != 0 else 0.0\n",
    "\n",
    "    pred_sum = pred_bin.sum()\n",
    "    target_sum = target_bin.sum()\n",
    "    dice = (2.0 * intersection) / (pred_sum + target_sum) if (pred_sum + target_sum) != 0 else 0.0\n",
    "\n",
    "    return iou, dice"
   ]
  },
  {
   "cell_type": "code",
   "execution_count": 2,
   "metadata": {},
   "outputs": [
    {
     "ename": "NameError",
     "evalue": "name 'os' is not defined",
     "output_type": "error",
     "traceback": [
      "\u001b[0;31m---------------------------------------------------------------------------\u001b[0m",
      "\u001b[0;31mNameError\u001b[0m                                 Traceback (most recent call last)",
      "Cell \u001b[0;32mIn[2], line 2\u001b[0m\n\u001b[1;32m      1\u001b[0m dataset_path_test_temp \u001b[38;5;241m=\u001b[39m \u001b[38;5;124m\"\u001b[39m\u001b[38;5;124m/home/dmatveev/workdir/rosneft_segmentation/data/Salt2d\u001b[39m\u001b[38;5;124m\"\u001b[39m\n\u001b[0;32m----> 2\u001b[0m seismic_dir_test_temp \u001b[38;5;241m=\u001b[39m \u001b[43mos\u001b[49m\u001b[38;5;241m.\u001b[39mpath\u001b[38;5;241m.\u001b[39mjoin(dataset_path_test_temp, \u001b[38;5;124m\"\u001b[39m\u001b[38;5;124mseismic\u001b[39m\u001b[38;5;124m\"\u001b[39m)\n\u001b[1;32m      3\u001b[0m label_dir_test_temp   \u001b[38;5;241m=\u001b[39m os\u001b[38;5;241m.\u001b[39mpath\u001b[38;5;241m.\u001b[39mjoin(dataset_path_test_temp, \u001b[38;5;124m\"\u001b[39m\u001b[38;5;124mlabel\u001b[39m\u001b[38;5;124m\"\u001b[39m)\n\u001b[1;32m      4\u001b[0m all_files_test_temp \u001b[38;5;241m=\u001b[39m \u001b[38;5;28msorted\u001b[39m(os\u001b[38;5;241m.\u001b[39mlistdir(seismic_dir_test_temp))\n",
      "\u001b[0;31mNameError\u001b[0m: name 'os' is not defined"
     ]
    }
   ],
   "source": [
    "dataset_path_test_temp = \"/home/dmatveev/workdir/rosneft_segmentation/data/Salt2d\"\n",
    "seismic_dir_test_temp = os.path.join(dataset_path_test_temp, \"seismic\")\n",
    "label_dir_test_temp   = os.path.join(dataset_path_test_temp, \"label\")\n",
    "all_files_test_temp = sorted(os.listdir(seismic_dir_test_temp))\n",
    "val_files_test_temp = all_files_test_temp[:10]"
   ]
  },
  {
   "cell_type": "code",
   "execution_count": 10,
   "metadata": {},
   "outputs": [],
   "source": [
    "def display_four_images(image, gt_mask, pred_mask, threshold=0.5):\n",
    "    if isinstance(image, Image.Image):\n",
    "        img_np = np.array(image)\n",
    "    else:\n",
    "        img_np = image.copy()\n",
    "    \n",
    "    pos_indices = np.argwhere(gt_mask > threshold)\n",
    "    if len(pos_indices) == 0:\n",
    "        h, w = gt_mask.shape\n",
    "        point = [h // 2, w // 2]\n",
    "    else:\n",
    "        point = random.choice(pos_indices)  # (row, col)\n",
    "    \n",
    "    fig, axes = plt.subplots(1, 4, figsize=(20, 5))\n",
    "    \n",
    "    # 1. Исходное изображение\n",
    "    axes[0].imshow(img_np)\n",
    "    axes[0].set_title(\"Исходное\")\n",
    "    axes[0].axis(\"off\")\n",
    "    \n",
    "    # 2. Исходное изображение с отмеченной точкой\n",
    "    axes[1].imshow(img_np)\n",
    "    axes[1].scatter(point[1], point[0], color=\"green\", marker=\"o\", s=100)\n",
    "    axes[1].set_title(\"С точкой (ground truth)\")\n",
    "    axes[1].axis(\"off\")\n",
    "    \n",
    "    # 3. Ground truth маска\n",
    "    axes[2].imshow(gt_mask, cmap=\"gray\")\n",
    "    axes[2].set_title(\"Ground Truth Маска\")\n",
    "    axes[2].axis(\"off\")\n",
    "    \n",
    "    # 4. Предсказанная маска\n",
    "    axes[3].imshow(pred_mask, cmap=\"gray\")\n",
    "    axes[3].set_title(\"Предсказанная Маска\")\n",
    "    axes[3].axis(\"off\")\n",
    "    \n",
    "    plt.tight_layout()\n",
    "    plt.show()\n"
   ]
  },
  {
   "cell_type": "code",
   "execution_count": 1,
   "metadata": {},
   "outputs": [
    {
     "ename": "NameError",
     "evalue": "name 'val_files_test_temp' is not defined",
     "output_type": "error",
     "traceback": [
      "\u001b[0;31m---------------------------------------------------------------------------\u001b[0m",
      "\u001b[0;31mNameError\u001b[0m                                 Traceback (most recent call last)",
      "Cell \u001b[0;32mIn[1], line 4\u001b[0m\n\u001b[1;32m      1\u001b[0m ious \u001b[38;5;241m=\u001b[39m []\n\u001b[1;32m      2\u001b[0m dices \u001b[38;5;241m=\u001b[39m []\n\u001b[0;32m----> 4\u001b[0m \u001b[38;5;28;01mfor\u001b[39;00m filename \u001b[38;5;129;01min\u001b[39;00m \u001b[43mval_files_test_temp\u001b[49m:\n\u001b[1;32m      5\u001b[0m     seismic_path \u001b[38;5;241m=\u001b[39m os\u001b[38;5;241m.\u001b[39mpath\u001b[38;5;241m.\u001b[39mjoin(seismic_dir_test_temp, filename)\n\u001b[1;32m      6\u001b[0m     label_path   \u001b[38;5;241m=\u001b[39m os\u001b[38;5;241m.\u001b[39mpath\u001b[38;5;241m.\u001b[39mjoin(label_dir_test_temp, filename)\n",
      "\u001b[0;31mNameError\u001b[0m: name 'val_files_test_temp' is not defined"
     ]
    }
   ],
   "source": [
    "ious = []\n",
    "dices = []\n",
    "\n",
    "for filename in val_files_test_temp:\n",
    "    seismic_path = os.path.join(seismic_dir_test_temp, filename)\n",
    "    label_path   = os.path.join(label_dir_test_temp, filename)\n",
    "\n",
    "    seismic = load_dat_file(seismic_path)\n",
    "    label   = load_dat_file(label_path)\n",
    "\n",
    "    if seismic.ndim == 2:\n",
    "        seismic_img = np.stack([seismic, seismic, seismic], axis=-1)\n",
    "    else:\n",
    "        seismic_img = seismic\n",
    "\n",
    "    pil_image = to_pil_image(seismic_img).convert(\"RGB\")\n",
    "\n",
    "    pos_indices = np.argwhere(label > 0)\n",
    "    if len(pos_indices) > 0:\n",
    "        chosen_idx = random.choice(pos_indices)\n",
    "        prompt_point = [[float(chosen_idx[1]), float(chosen_idx[0])]]\n",
    "    else:\n",
    "        h, w = label.shape\n",
    "        prompt_point = [[w / 2.0, h / 2.0]]\n",
    "    input_points = [prompt_point]\n",
    "\n",
    "    inputs = processor(pil_image, input_points=input_points, return_tensors=\"pt\").to(device)\n",
    "\n",
    "    with torch.no_grad():\n",
    "        outputs = model(**inputs)\n",
    "\n",
    "    masks = processor.image_processor.post_process_masks(\n",
    "        outputs.pred_masks.cpu(),\n",
    "        inputs[\"original_sizes\"].cpu(),\n",
    "        inputs[\"reshaped_input_sizes\"].cpu()\n",
    "    )\n",
    "    pred_mask = masks[0][0].cpu().numpy()\n",
    "    pred_mask = masks[0][0][1,:,:]\n",
    "    pred_mask = pred_mask.cpu().numpy()\n",
    "\n",
    "    iou, dice = compute_metrics(pred_mask, label)\n",
    "    ious.append(iou)\n",
    "    dices.append(dice)\n",
    "    print(f\"File: {filename}, IoU: {iou:.4f}, Dice: {dice:.4f}\")\n",
    "\n",
    "    display_four_images(pil_image, label, pred_mask)"
   ]
  },
  {
   "cell_type": "code",
   "execution_count": 24,
   "metadata": {},
   "outputs": [
    {
     "data": {
      "text/plain": [
       "np.float64(0.5388067461453254)"
      ]
     },
     "execution_count": 24,
     "metadata": {},
     "output_type": "execute_result"
    }
   ],
   "source": [
    "sum(dices)/len(dices)"
   ]
  },
  {
   "cell_type": "code",
   "execution_count": null,
   "metadata": {},
   "outputs": [],
   "source": []
  }
 ],
 "metadata": {
  "kernelspec": {
   "display_name": "for_rosneft",
   "language": "python",
   "name": "for_rosneft"
  },
  "language_info": {
   "codemirror_mode": {
    "name": "ipython",
    "version": 3
   },
   "file_extension": ".py",
   "mimetype": "text/x-python",
   "name": "python",
   "nbconvert_exporter": "python",
   "pygments_lexer": "ipython3",
   "version": "3.11.11"
  }
 },
 "nbformat": 4,
 "nbformat_minor": 2
}
